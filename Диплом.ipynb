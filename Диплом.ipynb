{
 "cells": [
  {
   "cell_type": "code",
   "execution_count": 1,
   "id": "dbb414e9",
   "metadata": {},
   "outputs": [],
   "source": [
    "import pandas as pd"
   ]
  },
  {
   "cell_type": "markdown",
   "id": "b8f37e0f",
   "metadata": {},
   "source": [
    "Задание 1"
   ]
  },
  {
   "cell_type": "code",
   "execution_count": 2,
   "id": "9448853a",
   "metadata": {},
   "outputs": [],
   "source": [
    "url='https://drive.google.com/file/d/1INgo03nal-vwFJe7Lec5vOUtOwfJdUr1/view?usp=sharing'\n",
    "file_id=url.split('/')[-2]\n",
    "dwn_url='https://drive.google.com/uc?id=' + file_id\n",
    "df = pd.read_csv(dwn_url, encoding= 'unicode_escape')"
   ]
  },
  {
   "cell_type": "code",
   "execution_count": 3,
   "id": "5340de05",
   "metadata": {},
   "outputs": [
    {
     "data": {
      "text/html": [
       "<div>\n",
       "<style scoped>\n",
       "    .dataframe tbody tr th:only-of-type {\n",
       "        vertical-align: middle;\n",
       "    }\n",
       "\n",
       "    .dataframe tbody tr th {\n",
       "        vertical-align: top;\n",
       "    }\n",
       "\n",
       "    .dataframe thead th {\n",
       "        text-align: right;\n",
       "    }\n",
       "</style>\n",
       "<table border=\"1\" class=\"dataframe\">\n",
       "  <thead>\n",
       "    <tr style=\"text-align: right;\">\n",
       "      <th></th>\n",
       "      <th>satisfaction_level</th>\n",
       "      <th>last_evaluation</th>\n",
       "      <th>number_project</th>\n",
       "      <th>average_montly_hours</th>\n",
       "      <th>time_spend_company</th>\n",
       "      <th>Work_accident</th>\n",
       "      <th>left</th>\n",
       "      <th>promotion_last_5years</th>\n",
       "      <th>department</th>\n",
       "      <th>salary</th>\n",
       "    </tr>\n",
       "  </thead>\n",
       "  <tbody>\n",
       "    <tr>\n",
       "      <th>0</th>\n",
       "      <td>0.38</td>\n",
       "      <td>0.53</td>\n",
       "      <td>2</td>\n",
       "      <td>157</td>\n",
       "      <td>3</td>\n",
       "      <td>0</td>\n",
       "      <td>1</td>\n",
       "      <td>0</td>\n",
       "      <td>sales</td>\n",
       "      <td>low</td>\n",
       "    </tr>\n",
       "    <tr>\n",
       "      <th>1</th>\n",
       "      <td>0.80</td>\n",
       "      <td>0.86</td>\n",
       "      <td>5</td>\n",
       "      <td>262</td>\n",
       "      <td>6</td>\n",
       "      <td>0</td>\n",
       "      <td>1</td>\n",
       "      <td>0</td>\n",
       "      <td>sales</td>\n",
       "      <td>medium</td>\n",
       "    </tr>\n",
       "    <tr>\n",
       "      <th>2</th>\n",
       "      <td>0.11</td>\n",
       "      <td>0.88</td>\n",
       "      <td>7</td>\n",
       "      <td>272</td>\n",
       "      <td>4</td>\n",
       "      <td>0</td>\n",
       "      <td>1</td>\n",
       "      <td>0</td>\n",
       "      <td>sales</td>\n",
       "      <td>medium</td>\n",
       "    </tr>\n",
       "    <tr>\n",
       "      <th>3</th>\n",
       "      <td>0.72</td>\n",
       "      <td>0.87</td>\n",
       "      <td>5</td>\n",
       "      <td>223</td>\n",
       "      <td>5</td>\n",
       "      <td>0</td>\n",
       "      <td>1</td>\n",
       "      <td>0</td>\n",
       "      <td>sales</td>\n",
       "      <td>low</td>\n",
       "    </tr>\n",
       "    <tr>\n",
       "      <th>4</th>\n",
       "      <td>0.37</td>\n",
       "      <td>0.52</td>\n",
       "      <td>2</td>\n",
       "      <td>159</td>\n",
       "      <td>3</td>\n",
       "      <td>0</td>\n",
       "      <td>1</td>\n",
       "      <td>0</td>\n",
       "      <td>sales</td>\n",
       "      <td>low</td>\n",
       "    </tr>\n",
       "  </tbody>\n",
       "</table>\n",
       "</div>"
      ],
      "text/plain": [
       "   satisfaction_level  last_evaluation  number_project  average_montly_hours  \\\n",
       "0                0.38             0.53               2                   157   \n",
       "1                0.80             0.86               5                   262   \n",
       "2                0.11             0.88               7                   272   \n",
       "3                0.72             0.87               5                   223   \n",
       "4                0.37             0.52               2                   159   \n",
       "\n",
       "   time_spend_company  Work_accident  left  promotion_last_5years department  \\\n",
       "0                   3              0     1                      0      sales   \n",
       "1                   6              0     1                      0      sales   \n",
       "2                   4              0     1                      0      sales   \n",
       "3                   5              0     1                      0      sales   \n",
       "4                   3              0     1                      0      sales   \n",
       "\n",
       "   salary  \n",
       "0     low  \n",
       "1  medium  \n",
       "2  medium  \n",
       "3     low  \n",
       "4     low  "
      ]
     },
     "execution_count": 3,
     "metadata": {},
     "output_type": "execute_result"
    }
   ],
   "source": [
    "df.head()"
   ]
  },
  {
   "cell_type": "code",
   "execution_count": 103,
   "id": "dc1b31b1",
   "metadata": {},
   "outputs": [
    {
     "name": "stdout",
     "output_type": "stream",
     "text": [
      "<class 'pandas.core.frame.DataFrame'>\n",
      "RangeIndex: 14999 entries, 0 to 14998\n",
      "Data columns (total 10 columns):\n",
      " #   Column                 Non-Null Count  Dtype  \n",
      "---  ------                 --------------  -----  \n",
      " 0   satisfaction_level     14999 non-null  float64\n",
      " 1   last_evaluation        14999 non-null  float64\n",
      " 2   number_project         14999 non-null  int64  \n",
      " 3   average_montly_hours   14999 non-null  int64  \n",
      " 4   time_spend_company     14999 non-null  int64  \n",
      " 5   Work_accident          14999 non-null  int64  \n",
      " 6   left                   14999 non-null  int64  \n",
      " 7   promotion_last_5years  14999 non-null  int64  \n",
      " 8   department             14999 non-null  object \n",
      " 9   salary                 14999 non-null  object \n",
      "dtypes: float64(2), int64(6), object(2)\n",
      "memory usage: 1.1+ MB\n"
     ]
    }
   ],
   "source": [
    "df.info()"
   ]
  },
  {
   "cell_type": "markdown",
   "id": "48e64bef",
   "metadata": {},
   "source": [
    "Задание 2"
   ]
  },
  {
   "cell_type": "code",
   "execution_count": 17,
   "id": "de752386",
   "metadata": {},
   "outputs": [
    {
     "name": "stdout",
     "output_type": "stream",
     "text": [
      "count    14999.000000\n",
      "mean         0.612834\n",
      "std          0.248631\n",
      "min          0.090000\n",
      "25%          0.440000\n",
      "50%          0.640000\n",
      "75%          0.820000\n",
      "max          1.000000\n",
      "Name: satisfaction_level, dtype: float64\n",
      "Медиана: 0.64\n",
      "Мода: 0.1\n"
     ]
    }
   ],
   "source": [
    "print(df.satisfaction_level.describe())\n",
    "print(f'Медиана: {df.satisfaction_level.median()}')\n",
    "print(f'Мода: {df.satisfaction_level.mode()[0]}')"
   ]
  },
  {
   "cell_type": "code",
   "execution_count": 18,
   "id": "1836b571",
   "metadata": {},
   "outputs": [
    {
     "name": "stdout",
     "output_type": "stream",
     "text": [
      "count    14999.000000\n",
      "mean         0.716102\n",
      "std          0.171169\n",
      "min          0.360000\n",
      "25%          0.560000\n",
      "50%          0.720000\n",
      "75%          0.870000\n",
      "max          1.000000\n",
      "Name: last_evaluation, dtype: float64\n",
      "Медиана: 0.72\n",
      "Мода: 0.55\n"
     ]
    }
   ],
   "source": [
    "print(df.last_evaluation.describe())\n",
    "print(f'Медиана: {df.last_evaluation.median()}')\n",
    "print(f'Мода: {df.last_evaluation.mode()[0]}')"
   ]
  },
  {
   "cell_type": "code",
   "execution_count": 19,
   "id": "d28ed387",
   "metadata": {},
   "outputs": [
    {
     "name": "stdout",
     "output_type": "stream",
     "text": [
      "count    14999.000000\n",
      "mean         3.803054\n",
      "std          1.232592\n",
      "min          2.000000\n",
      "25%          3.000000\n",
      "50%          4.000000\n",
      "75%          5.000000\n",
      "max          7.000000\n",
      "Name: number_project, dtype: float64\n",
      "Медиана: 4.0\n",
      "Мода: 4\n"
     ]
    }
   ],
   "source": [
    "print(df.number_project.describe())\n",
    "print(f'Медиана: {df.number_project.median()}')\n",
    "print(f'Мода: {df.number_project.mode()[0]}')"
   ]
  },
  {
   "cell_type": "code",
   "execution_count": 20,
   "id": "cd511f6d",
   "metadata": {},
   "outputs": [
    {
     "name": "stdout",
     "output_type": "stream",
     "text": [
      "count    14999.000000\n",
      "mean       201.050337\n",
      "std         49.943099\n",
      "min         96.000000\n",
      "25%        156.000000\n",
      "50%        200.000000\n",
      "75%        245.000000\n",
      "max        310.000000\n",
      "Name: average_montly_hours, dtype: float64\n",
      "Медиана: 200.0\n",
      "Мода: 135\n"
     ]
    }
   ],
   "source": [
    "print(df.average_montly_hours.describe())\n",
    "print(f'Медиана: {df.average_montly_hours.median()}')\n",
    "print(f'Мода: {df.average_montly_hours.mode()[0]}')"
   ]
  },
  {
   "cell_type": "code",
   "execution_count": 21,
   "id": "513a3a8d",
   "metadata": {},
   "outputs": [
    {
     "name": "stdout",
     "output_type": "stream",
     "text": [
      "count    14999.000000\n",
      "mean         3.498233\n",
      "std          1.460136\n",
      "min          2.000000\n",
      "25%          3.000000\n",
      "50%          3.000000\n",
      "75%          4.000000\n",
      "max         10.000000\n",
      "Name: time_spend_company, dtype: float64\n",
      "Медиана: 3.0\n",
      "Мода: 3\n"
     ]
    }
   ],
   "source": [
    "print(df.time_spend_company.describe())\n",
    "print(f'Медиана: {df.time_spend_company.median()}')\n",
    "print(f'Мода: {df.time_spend_company.mode()[0]}')"
   ]
  },
  {
   "cell_type": "markdown",
   "id": "72727768",
   "metadata": {},
   "source": [
    "Задание 3"
   ]
  },
  {
   "cell_type": "code",
   "execution_count": 23,
   "id": "284f0e9b",
   "metadata": {},
   "outputs": [
    {
     "data": {
      "text/html": [
       "<style type=\"text/css\">\n",
       "#T_fce64_row0_col0, #T_fce64_row1_col1, #T_fce64_row2_col2, #T_fce64_row3_col3, #T_fce64_row4_col4 {\n",
       "  background-color: #b40426;\n",
       "  color: #f1f1f1;\n",
       "}\n",
       "#T_fce64_row0_col1, #T_fce64_row0_col2, #T_fce64_row0_col3, #T_fce64_row0_col4, #T_fce64_row2_col0 {\n",
       "  background-color: #3b4cc0;\n",
       "  color: #f1f1f1;\n",
       "}\n",
       "#T_fce64_row1_col0 {\n",
       "  background-color: #81a4fb;\n",
       "  color: #f1f1f1;\n",
       "}\n",
       "#T_fce64_row1_col2 {\n",
       "  background-color: #cad8ef;\n",
       "  color: #000000;\n",
       "}\n",
       "#T_fce64_row1_col3 {\n",
       "  background-color: #b1cbfc;\n",
       "  color: #000000;\n",
       "}\n",
       "#T_fce64_row1_col4 {\n",
       "  background-color: #80a3fa;\n",
       "  color: #f1f1f1;\n",
       "}\n",
       "#T_fce64_row2_col1, #T_fce64_row2_col4 {\n",
       "  background-color: #94b6ff;\n",
       "  color: #000000;\n",
       "}\n",
       "#T_fce64_row2_col3 {\n",
       "  background-color: #c9d7f0;\n",
       "  color: #000000;\n",
       "}\n",
       "#T_fce64_row3_col0 {\n",
       "  background-color: #5b7ae5;\n",
       "  color: #f1f1f1;\n",
       "}\n",
       "#T_fce64_row3_col1 {\n",
       "  background-color: #92b4fe;\n",
       "  color: #000000;\n",
       "}\n",
       "#T_fce64_row3_col2 {\n",
       "  background-color: #dadce0;\n",
       "  color: #000000;\n",
       "}\n",
       "#T_fce64_row3_col4 {\n",
       "  background-color: #7ea1fa;\n",
       "  color: #f1f1f1;\n",
       "}\n",
       "#T_fce64_row4_col0 {\n",
       "  background-color: #455cce;\n",
       "  color: #f1f1f1;\n",
       "}\n",
       "#T_fce64_row4_col1 {\n",
       "  background-color: #4358cb;\n",
       "  color: #f1f1f1;\n",
       "}\n",
       "#T_fce64_row4_col2 {\n",
       "  background-color: #9ebeff;\n",
       "  color: #000000;\n",
       "}\n",
       "#T_fce64_row4_col3 {\n",
       "  background-color: #688aef;\n",
       "  color: #f1f1f1;\n",
       "}\n",
       "</style>\n",
       "<table id=\"T_fce64\">\n",
       "  <thead>\n",
       "    <tr>\n",
       "      <th class=\"blank level0\" >&nbsp;</th>\n",
       "      <th id=\"T_fce64_level0_col0\" class=\"col_heading level0 col0\" >satisfaction_level</th>\n",
       "      <th id=\"T_fce64_level0_col1\" class=\"col_heading level0 col1\" >last_evaluation</th>\n",
       "      <th id=\"T_fce64_level0_col2\" class=\"col_heading level0 col2\" >number_project</th>\n",
       "      <th id=\"T_fce64_level0_col3\" class=\"col_heading level0 col3\" >average_montly_hours</th>\n",
       "      <th id=\"T_fce64_level0_col4\" class=\"col_heading level0 col4\" >time_spend_company</th>\n",
       "    </tr>\n",
       "  </thead>\n",
       "  <tbody>\n",
       "    <tr>\n",
       "      <th id=\"T_fce64_level0_row0\" class=\"row_heading level0 row0\" >satisfaction_level</th>\n",
       "      <td id=\"T_fce64_row0_col0\" class=\"data row0 col0\" >1.000000</td>\n",
       "      <td id=\"T_fce64_row0_col1\" class=\"data row0 col1\" >0.105021</td>\n",
       "      <td id=\"T_fce64_row0_col2\" class=\"data row0 col2\" >-0.142970</td>\n",
       "      <td id=\"T_fce64_row0_col3\" class=\"data row0 col3\" >-0.020048</td>\n",
       "      <td id=\"T_fce64_row0_col4\" class=\"data row0 col4\" >-0.100866</td>\n",
       "    </tr>\n",
       "    <tr>\n",
       "      <th id=\"T_fce64_level0_row1\" class=\"row_heading level0 row1\" >last_evaluation</th>\n",
       "      <td id=\"T_fce64_row1_col0\" class=\"data row1 col0\" >0.105021</td>\n",
       "      <td id=\"T_fce64_row1_col1\" class=\"data row1 col1\" >1.000000</td>\n",
       "      <td id=\"T_fce64_row1_col2\" class=\"data row1 col2\" >0.349333</td>\n",
       "      <td id=\"T_fce64_row1_col3\" class=\"data row1 col3\" >0.339742</td>\n",
       "      <td id=\"T_fce64_row1_col4\" class=\"data row1 col4\" >0.131591</td>\n",
       "    </tr>\n",
       "    <tr>\n",
       "      <th id=\"T_fce64_level0_row2\" class=\"row_heading level0 row2\" >number_project</th>\n",
       "      <td id=\"T_fce64_row2_col0\" class=\"data row2 col0\" >-0.142970</td>\n",
       "      <td id=\"T_fce64_row2_col1\" class=\"data row2 col1\" >0.349333</td>\n",
       "      <td id=\"T_fce64_row2_col2\" class=\"data row2 col2\" >1.000000</td>\n",
       "      <td id=\"T_fce64_row2_col3\" class=\"data row2 col3\" >0.417211</td>\n",
       "      <td id=\"T_fce64_row2_col4\" class=\"data row2 col4\" >0.196786</td>\n",
       "    </tr>\n",
       "    <tr>\n",
       "      <th id=\"T_fce64_level0_row3\" class=\"row_heading level0 row3\" >average_montly_hours</th>\n",
       "      <td id=\"T_fce64_row3_col0\" class=\"data row3 col0\" >-0.020048</td>\n",
       "      <td id=\"T_fce64_row3_col1\" class=\"data row3 col1\" >0.339742</td>\n",
       "      <td id=\"T_fce64_row3_col2\" class=\"data row3 col2\" >0.417211</td>\n",
       "      <td id=\"T_fce64_row3_col3\" class=\"data row3 col3\" >1.000000</td>\n",
       "      <td id=\"T_fce64_row3_col4\" class=\"data row3 col4\" >0.127755</td>\n",
       "    </tr>\n",
       "    <tr>\n",
       "      <th id=\"T_fce64_level0_row4\" class=\"row_heading level0 row4\" >time_spend_company</th>\n",
       "      <td id=\"T_fce64_row4_col0\" class=\"data row4 col0\" >-0.100866</td>\n",
       "      <td id=\"T_fce64_row4_col1\" class=\"data row4 col1\" >0.131591</td>\n",
       "      <td id=\"T_fce64_row4_col2\" class=\"data row4 col2\" >0.196786</td>\n",
       "      <td id=\"T_fce64_row4_col3\" class=\"data row4 col3\" >0.127755</td>\n",
       "      <td id=\"T_fce64_row4_col4\" class=\"data row4 col4\" >1.000000</td>\n",
       "    </tr>\n",
       "  </tbody>\n",
       "</table>\n"
      ],
      "text/plain": [
       "<pandas.io.formats.style.Styler at 0x224d798aa90>"
      ]
     },
     "execution_count": 23,
     "metadata": {},
     "output_type": "execute_result"
    }
   ],
   "source": [
    "corr = df[['satisfaction_level','last_evaluation','number_project','average_montly_hours','time_spend_company']].corr()\n",
    "corr.style.background_gradient(cmap='coolwarm')"
   ]
  },
  {
   "cell_type": "markdown",
   "id": "f39afd92",
   "metadata": {},
   "source": [
    "<b>Определите две самые скоррелированные и две наименее скоррелированные переменные.</b></br>\n",
    "Две наиболее скореллериванные перменные это number_project и average_montly_hours.</br>\n",
    "Две наименее скоррелированные переменные это average_montly_hours и satisfaction_level"
   ]
  },
  {
   "cell_type": "markdown",
   "id": "a2d21dd7",
   "metadata": {},
   "source": [
    "Задание 4"
   ]
  },
  {
   "cell_type": "code",
   "execution_count": 25,
   "id": "0284acdc",
   "metadata": {},
   "outputs": [
    {
     "data": {
      "text/plain": [
       "sales          4140\n",
       "technical      2720\n",
       "support        2229\n",
       "IT             1227\n",
       "product_mng     902\n",
       "marketing       858\n",
       "RandD           787\n",
       "accounting      767\n",
       "hr              739\n",
       "management      630\n",
       "Name: department, dtype: int64"
      ]
     },
     "execution_count": 25,
     "metadata": {},
     "output_type": "execute_result"
    }
   ],
   "source": [
    "df.department.value_counts()"
   ]
  },
  {
   "cell_type": "markdown",
   "id": "971fb37d",
   "metadata": {},
   "source": [
    "Задание 5"
   ]
  },
  {
   "cell_type": "code",
   "execution_count": 80,
   "id": "b8b1ff88",
   "metadata": {},
   "outputs": [
    {
     "data": {
      "text/plain": [
       "low       7316\n",
       "medium    6446\n",
       "high      1237\n",
       "Name: salary, dtype: int64"
      ]
     },
     "execution_count": 80,
     "metadata": {},
     "output_type": "execute_result"
    }
   ],
   "source": [
    "df.salary.value_counts()"
   ]
  },
  {
   "cell_type": "code",
   "execution_count": 81,
   "id": "26a896e9",
   "metadata": {},
   "outputs": [
    {
     "data": {
      "text/plain": [
       "<AxesSubplot:title={'center':'Распределение сотрудников по зарплатам'}, xlabel='Зарплата', ylabel='Кол-во сотрудников'>"
      ]
     },
     "execution_count": 81,
     "metadata": {},
     "output_type": "execute_result"
    },
    {
     "data": {
      "image/png": "[encoded data removed]",
      "text/plain": [
       "<Figure size 432x288 with 1 Axes>"
      ]
     },
     "metadata": {
      "needs_background": "light"
     },
     "output_type": "display_data"
    }
   ],
   "source": [
    "df.salary.value_counts().plot(kind = 'bar',title = 'Распределение сотрудников по зарплатам',\\\n",
    "                              xlabel = 'Зарплата', ylabel = 'Кол-во сотрудников' )"
   ]
  },
  {
   "cell_type": "markdown",
   "id": "e36ccb97",
   "metadata": {},
   "source": [
    "Задание 6"
   ]
  },
  {
   "cell_type": "code",
   "execution_count": 65,
   "id": "106fd989",
   "metadata": {},
   "outputs": [],
   "source": [
    "df1 = df[['department','salary']].value_counts().rename_axis(['department','salary']).to_frame('counts')"
   ]
  },
  {
   "cell_type": "code",
   "execution_count": 71,
   "id": "ff0c12f5",
   "metadata": {},
   "outputs": [],
   "source": [
    "df1 = df1.sort_values(by='department')"
   ]
  },
  {
   "cell_type": "code",
   "execution_count": 79,
   "id": "c9c355da",
   "metadata": {},
   "outputs": [
    {
     "data": {
      "text/html": [
       "<div>\n",
       "<style scoped>\n",
       "    .dataframe tbody tr th:only-of-type {\n",
       "        vertical-align: middle;\n",
       "    }\n",
       "\n",
       "    .dataframe tbody tr th {\n",
       "        vertical-align: top;\n",
       "    }\n",
       "\n",
       "    .dataframe thead tr th {\n",
       "        text-align: left;\n",
       "    }\n",
       "\n",
       "    .dataframe thead tr:last-of-type th {\n",
       "        text-align: right;\n",
       "    }\n",
       "</style>\n",
       "<table border=\"1\" class=\"dataframe\">\n",
       "  <thead>\n",
       "    <tr>\n",
       "      <th></th>\n",
       "      <th colspan=\"3\" halign=\"left\">counts</th>\n",
       "    </tr>\n",
       "    <tr>\n",
       "      <th>salary</th>\n",
       "      <th>high</th>\n",
       "      <th>low</th>\n",
       "      <th>medium</th>\n",
       "    </tr>\n",
       "    <tr>\n",
       "      <th>department</th>\n",
       "      <th></th>\n",
       "      <th></th>\n",
       "      <th></th>\n",
       "    </tr>\n",
       "  </thead>\n",
       "  <tbody>\n",
       "    <tr>\n",
       "      <th>IT</th>\n",
       "      <td>83</td>\n",
       "      <td>609</td>\n",
       "      <td>535</td>\n",
       "    </tr>\n",
       "    <tr>\n",
       "      <th>RandD</th>\n",
       "      <td>51</td>\n",
       "      <td>364</td>\n",
       "      <td>372</td>\n",
       "    </tr>\n",
       "    <tr>\n",
       "      <th>accounting</th>\n",
       "      <td>74</td>\n",
       "      <td>358</td>\n",
       "      <td>335</td>\n",
       "    </tr>\n",
       "    <tr>\n",
       "      <th>hr</th>\n",
       "      <td>45</td>\n",
       "      <td>335</td>\n",
       "      <td>359</td>\n",
       "    </tr>\n",
       "    <tr>\n",
       "      <th>management</th>\n",
       "      <td>225</td>\n",
       "      <td>180</td>\n",
       "      <td>225</td>\n",
       "    </tr>\n",
       "    <tr>\n",
       "      <th>marketing</th>\n",
       "      <td>80</td>\n",
       "      <td>402</td>\n",
       "      <td>376</td>\n",
       "    </tr>\n",
       "    <tr>\n",
       "      <th>product_mng</th>\n",
       "      <td>68</td>\n",
       "      <td>451</td>\n",
       "      <td>383</td>\n",
       "    </tr>\n",
       "    <tr>\n",
       "      <th>sales</th>\n",
       "      <td>269</td>\n",
       "      <td>2099</td>\n",
       "      <td>1772</td>\n",
       "    </tr>\n",
       "    <tr>\n",
       "      <th>support</th>\n",
       "      <td>141</td>\n",
       "      <td>1146</td>\n",
       "      <td>942</td>\n",
       "    </tr>\n",
       "    <tr>\n",
       "      <th>technical</th>\n",
       "      <td>201</td>\n",
       "      <td>1372</td>\n",
       "      <td>1147</td>\n",
       "    </tr>\n",
       "  </tbody>\n",
       "</table>\n",
       "</div>"
      ],
      "text/plain": [
       "            counts             \n",
       "salary        high   low medium\n",
       "department                     \n",
       "IT              83   609    535\n",
       "RandD           51   364    372\n",
       "accounting      74   358    335\n",
       "hr              45   335    359\n",
       "management     225   180    225\n",
       "marketing       80   402    376\n",
       "product_mng     68   451    383\n",
       "sales          269  2099   1772\n",
       "support        141  1146    942\n",
       "technical      201  1372   1147"
      ]
     },
     "execution_count": 79,
     "metadata": {},
     "output_type": "execute_result"
    }
   ],
   "source": [
    "df1.unstack()"
   ]
  },
  {
   "cell_type": "code",
   "execution_count": 83,
   "id": "a0d21172",
   "metadata": {},
   "outputs": [
    {
     "data": {
      "text/plain": [
       "<AxesSubplot:xlabel='department'>"
      ]
     },
     "execution_count": 83,
     "metadata": {},
     "output_type": "execute_result"
    },
    {
     "data": {
      "image/png": "[encoded data removed]",
      "text/plain": [
       "<Figure size 432x288 with 1 Axes>"
      ]
     },
     "metadata": {
      "needs_background": "light"
     },
     "output_type": "display_data"
    }
   ],
   "source": [
    "df1.unstack().plot(kind = 'bar')"
   ]
  },
  {
   "cell_type": "markdown",
   "id": "dd720281",
   "metadata": {},
   "source": [
    "Задание 7"
   ]
  },
  {
   "cell_type": "code",
   "execution_count": 92,
   "id": "598c0cca",
   "metadata": {},
   "outputs": [],
   "source": [
    "A = df.average_montly_hours.loc[df.salary == 'high']\n",
    "B = df.average_montly_hours.loc[df.salary == 'low']"
   ]
  },
  {
   "cell_type": "code",
   "execution_count": 93,
   "id": "ada57098",
   "metadata": {},
   "outputs": [
    {
     "data": {
      "text/plain": [
       "(72       149\n",
       " 111      289\n",
       " 189      156\n",
       " 267      129\n",
       " 306      149\n",
       "         ... \n",
       " 14829    148\n",
       " 14868    130\n",
       " 14902    159\n",
       " 14941    131\n",
       " 14980    238\n",
       " Name: average_montly_hours, Length: 1237, dtype: int64,\n",
       " 0        157\n",
       " 3        223\n",
       " 4        159\n",
       " 5        153\n",
       " 6        247\n",
       "         ... \n",
       " 14994    151\n",
       " 14995    160\n",
       " 14996    143\n",
       " 14997    280\n",
       " 14998    158\n",
       " Name: average_montly_hours, Length: 7316, dtype: int64)"
      ]
     },
     "execution_count": 93,
     "metadata": {},
     "output_type": "execute_result"
    }
   ],
   "source": [
    "A,B"
   ]
  },
  {
   "cell_type": "code",
   "execution_count": 96,
   "id": "10ea75ce",
   "metadata": {},
   "outputs": [
    {
     "name": "stdout",
     "output_type": "stream",
     "text": [
      "Принимаем нулевую гипотезу, время работы сотрудников одинаково\n"
     ]
    }
   ],
   "source": [
    "from scipy import stats\n",
    "f,p = stats.ttest_ind(A,B)\n",
    "f,p\n",
    "if (p < 0.01):\n",
    "    print('Отвергаем нулевую гипотезу, время работы сотрудников не одинаково')\n",
    "else:\n",
    "    print('Принимаем нулевую гипотезу, время работы сотрудников одинаково')"
   ]
  },
  {
   "cell_type": "markdown",
   "id": "b9f1f8ee",
   "metadata": {},
   "source": [
    "Задание 8"
   ]
  },
  {
   "cell_type": "code",
   "execution_count": 101,
   "id": "58f1969d",
   "metadata": {},
   "outputs": [],
   "source": [
    "emp_all = len(df)"
   ]
  },
  {
   "cell_type": "code",
   "execution_count": 114,
   "id": "0fd3997f",
   "metadata": {},
   "outputs": [],
   "source": [
    "emp_promotion_last_5years_left = len(df.loc[(df.promotion_last_5years == 1) & (df.left == 1)])\n",
    "emp_promotion_last_5years_work = len(df.loc[(df.promotion_last_5years == 1) & (df.left == 0)])"
   ]
  },
  {
   "cell_type": "code",
   "execution_count": 124,
   "id": "a8d04013",
   "metadata": {},
   "outputs": [
    {
     "name": "stdout",
     "output_type": "stream",
     "text": [
      "Доля сотрудников уволившихся после повышения: 0.13%\n",
      "Доля сотрудников не уволившихся после повышения: 2.0%\n"
     ]
    }
   ],
   "source": [
    "print(f'Доля сотрудников уволившихся после повышения: {round((emp_promotion_last_5years_left/emp_all) * 100,2)}%')\n",
    "print(f'Доля сотрудников не уволившихся после повышения: {round((emp_promotion_last_5years_work/emp_all) * 100,2)}%')"
   ]
  },
  {
   "cell_type": "code",
   "execution_count": 122,
   "id": "3611fab3",
   "metadata": {},
   "outputs": [],
   "source": [
    "emp_satisfaction = df.groupby(df['left'] == 1)['satisfaction_level'].mean().round(2)"
   ]
  },
  {
   "cell_type": "code",
   "execution_count": 130,
   "id": "e7e454f2",
   "metadata": {},
   "outputs": [
    {
     "name": "stdout",
     "output_type": "stream",
     "text": [
      "Средняя степень удовлетворенности уволенных: 0.67\n",
      "Средняя степень удовлетворенности работающих: 0.44\n"
     ]
    }
   ],
   "source": [
    "print(f'Средняя степень удовлетворенности уволенных: {emp_satisfaction[0]}')\n",
    "print(f'Средняя степень удовлетворенности работающих: {emp_satisfaction[1]}')"
   ]
  },
  {
   "cell_type": "code",
   "execution_count": 131,
   "id": "0dd5f5b8",
   "metadata": {},
   "outputs": [],
   "source": [
    "emp_project = df.groupby(df['left'] == 1)['number_project'].mean().round(2)"
   ]
  },
  {
   "cell_type": "code",
   "execution_count": 133,
   "id": "dff0fd69",
   "metadata": {},
   "outputs": [
    {
     "name": "stdout",
     "output_type": "stream",
     "text": [
      "Среднее количество проектов у уволенных: 3.79\n",
      "Среднее количество проектов у работающих: 3.86\n"
     ]
    }
   ],
   "source": [
    "print(f'Среднее количество проектов у уволенных: {emp_project[0]}')\n",
    "print(f'Среднее количество проектов у работающих: {emp_project[1]}')"
   ]
  },
  {
   "cell_type": "markdown",
   "id": "a9e17952",
   "metadata": {},
   "source": [
    "Задание 9"
   ]
  },
  {
   "cell_type": "code",
   "execution_count": 156,
   "id": "6d5311b8",
   "metadata": {},
   "outputs": [],
   "source": [
    "from sklearn.model_selection import train_test_split\n",
    "from sklearn.discriminant_analysis import LinearDiscriminantAnalysis \n",
    "from sklearn.metrics import confusion_matrix\n",
    "from sklearn.metrics import accuracy_score"
   ]
  },
  {
   "cell_type": "code",
   "execution_count": 143,
   "id": "26592e5d",
   "metadata": {},
   "outputs": [],
   "source": [
    "df2 = df.drop(['left','department','salary'], axis=1)\n",
    "y = df.left"
   ]
  },
  {
   "cell_type": "code",
   "execution_count": 144,
   "id": "e4113c76",
   "metadata": {},
   "outputs": [
    {
     "data": {
      "text/html": [
       "<div>\n",
       "<style scoped>\n",
       "    .dataframe tbody tr th:only-of-type {\n",
       "        vertical-align: middle;\n",
       "    }\n",
       "\n",
       "    .dataframe tbody tr th {\n",
       "        vertical-align: top;\n",
       "    }\n",
       "\n",
       "    .dataframe thead th {\n",
       "        text-align: right;\n",
       "    }\n",
       "</style>\n",
       "<table border=\"1\" class=\"dataframe\">\n",
       "  <thead>\n",
       "    <tr style=\"text-align: right;\">\n",
       "      <th></th>\n",
       "      <th>satisfaction_level</th>\n",
       "      <th>last_evaluation</th>\n",
       "      <th>number_project</th>\n",
       "      <th>average_montly_hours</th>\n",
       "      <th>time_spend_company</th>\n",
       "      <th>Work_accident</th>\n",
       "      <th>promotion_last_5years</th>\n",
       "    </tr>\n",
       "  </thead>\n",
       "  <tbody>\n",
       "    <tr>\n",
       "      <th>0</th>\n",
       "      <td>0.38</td>\n",
       "      <td>0.53</td>\n",
       "      <td>2</td>\n",
       "      <td>157</td>\n",
       "      <td>3</td>\n",
       "      <td>0</td>\n",
       "      <td>0</td>\n",
       "    </tr>\n",
       "    <tr>\n",
       "      <th>1</th>\n",
       "      <td>0.80</td>\n",
       "      <td>0.86</td>\n",
       "      <td>5</td>\n",
       "      <td>262</td>\n",
       "      <td>6</td>\n",
       "      <td>0</td>\n",
       "      <td>0</td>\n",
       "    </tr>\n",
       "    <tr>\n",
       "      <th>2</th>\n",
       "      <td>0.11</td>\n",
       "      <td>0.88</td>\n",
       "      <td>7</td>\n",
       "      <td>272</td>\n",
       "      <td>4</td>\n",
       "      <td>0</td>\n",
       "      <td>0</td>\n",
       "    </tr>\n",
       "    <tr>\n",
       "      <th>3</th>\n",
       "      <td>0.72</td>\n",
       "      <td>0.87</td>\n",
       "      <td>5</td>\n",
       "      <td>223</td>\n",
       "      <td>5</td>\n",
       "      <td>0</td>\n",
       "      <td>0</td>\n",
       "    </tr>\n",
       "    <tr>\n",
       "      <th>4</th>\n",
       "      <td>0.37</td>\n",
       "      <td>0.52</td>\n",
       "      <td>2</td>\n",
       "      <td>159</td>\n",
       "      <td>3</td>\n",
       "      <td>0</td>\n",
       "      <td>0</td>\n",
       "    </tr>\n",
       "    <tr>\n",
       "      <th>...</th>\n",
       "      <td>...</td>\n",
       "      <td>...</td>\n",
       "      <td>...</td>\n",
       "      <td>...</td>\n",
       "      <td>...</td>\n",
       "      <td>...</td>\n",
       "      <td>...</td>\n",
       "    </tr>\n",
       "    <tr>\n",
       "      <th>14994</th>\n",
       "      <td>0.40</td>\n",
       "      <td>0.57</td>\n",
       "      <td>2</td>\n",
       "      <td>151</td>\n",
       "      <td>3</td>\n",
       "      <td>0</td>\n",
       "      <td>0</td>\n",
       "    </tr>\n",
       "    <tr>\n",
       "      <th>14995</th>\n",
       "      <td>0.37</td>\n",
       "      <td>0.48</td>\n",
       "      <td>2</td>\n",
       "      <td>160</td>\n",
       "      <td>3</td>\n",
       "      <td>0</td>\n",
       "      <td>0</td>\n",
       "    </tr>\n",
       "    <tr>\n",
       "      <th>14996</th>\n",
       "      <td>0.37</td>\n",
       "      <td>0.53</td>\n",
       "      <td>2</td>\n",
       "      <td>143</td>\n",
       "      <td>3</td>\n",
       "      <td>0</td>\n",
       "      <td>0</td>\n",
       "    </tr>\n",
       "    <tr>\n",
       "      <th>14997</th>\n",
       "      <td>0.11</td>\n",
       "      <td>0.96</td>\n",
       "      <td>6</td>\n",
       "      <td>280</td>\n",
       "      <td>4</td>\n",
       "      <td>0</td>\n",
       "      <td>0</td>\n",
       "    </tr>\n",
       "    <tr>\n",
       "      <th>14998</th>\n",
       "      <td>0.37</td>\n",
       "      <td>0.52</td>\n",
       "      <td>2</td>\n",
       "      <td>158</td>\n",
       "      <td>3</td>\n",
       "      <td>0</td>\n",
       "      <td>0</td>\n",
       "    </tr>\n",
       "  </tbody>\n",
       "</table>\n",
       "<p>14999 rows × 7 columns</p>\n",
       "</div>"
      ],
      "text/plain": [
       "       satisfaction_level  last_evaluation  number_project  \\\n",
       "0                    0.38             0.53               2   \n",
       "1                    0.80             0.86               5   \n",
       "2                    0.11             0.88               7   \n",
       "3                    0.72             0.87               5   \n",
       "4                    0.37             0.52               2   \n",
       "...                   ...              ...             ...   \n",
       "14994                0.40             0.57               2   \n",
       "14995                0.37             0.48               2   \n",
       "14996                0.37             0.53               2   \n",
       "14997                0.11             0.96               6   \n",
       "14998                0.37             0.52               2   \n",
       "\n",
       "       average_montly_hours  time_spend_company  Work_accident  \\\n",
       "0                       157                   3              0   \n",
       "1                       262                   6              0   \n",
       "2                       272                   4              0   \n",
       "3                       223                   5              0   \n",
       "4                       159                   3              0   \n",
       "...                     ...                 ...            ...   \n",
       "14994                   151                   3              0   \n",
       "14995                   160                   3              0   \n",
       "14996                   143                   3              0   \n",
       "14997                   280                   4              0   \n",
       "14998                   158                   3              0   \n",
       "\n",
       "       promotion_last_5years  \n",
       "0                          0  \n",
       "1                          0  \n",
       "2                          0  \n",
       "3                          0  \n",
       "4                          0  \n",
       "...                      ...  \n",
       "14994                      0  \n",
       "14995                      0  \n",
       "14996                      0  \n",
       "14997                      0  \n",
       "14998                      0  \n",
       "\n",
       "[14999 rows x 7 columns]"
      ]
     },
     "execution_count": 144,
     "metadata": {},
     "output_type": "execute_result"
    }
   ],
   "source": [
    "df2"
   ]
  },
  {
   "cell_type": "code",
   "execution_count": 147,
   "id": "90a9b287",
   "metadata": {},
   "outputs": [],
   "source": [
    "X_train, X_test, y_train, y_test = train_test_split(df2, y, test_size=0.3, random_state = 42)"
   ]
  },
  {
   "cell_type": "code",
   "execution_count": 150,
   "id": "1993d7da",
   "metadata": {},
   "outputs": [],
   "source": [
    "lr = LinearDiscriminantAnalysis()"
   ]
  },
  {
   "cell_type": "code",
   "execution_count": 151,
   "id": "e044128c",
   "metadata": {},
   "outputs": [
    {
     "data": {
      "text/html": [
       "<style>#sk-container-id-2 {color: black;background-color: white;}#sk-container-id-2 pre{padding: 0;}#sk-container-id-2 div.sk-toggleable {background-color: white;}#sk-container-id-2 label.sk-toggleable__label {cursor: pointer;display: block;width: 100%;margin-bottom: 0;padding: 0.3em;box-sizing: border-box;text-align: center;}#sk-container-id-2 label.sk-toggleable__label-arrow:before {content: \"▸\";float: left;margin-right: 0.25em;color: #696969;}#sk-container-id-2 label.sk-toggleable__label-arrow:hover:before {color: black;}#sk-container-id-2 div.sk-estimator:hover label.sk-toggleable__label-arrow:before {color: black;}#sk-container-id-2 div.sk-toggleable__content {max-height: 0;max-width: 0;overflow: hidden;text-align: left;background-color: #f0f8ff;}#sk-container-id-2 div.sk-toggleable__content pre {margin: 0.2em;color: black;border-radius: 0.25em;background-color: #f0f8ff;}#sk-container-id-2 input.sk-toggleable__control:checked~div.sk-toggleable__content {max-height: 200px;max-width: 100%;overflow: auto;}#sk-container-id-2 input.sk-toggleable__control:checked~label.sk-toggleable__label-arrow:before {content: \"▾\";}#sk-container-id-2 div.sk-estimator input.sk-toggleable__control:checked~label.sk-toggleable__label {background-color: #d4ebff;}#sk-container-id-2 div.sk-label input.sk-toggleable__control:checked~label.sk-toggleable__label {background-color: #d4ebff;}#sk-container-id-2 input.sk-hidden--visually {border: 0;clip: rect(1px 1px 1px 1px);clip: rect(1px, 1px, 1px, 1px);height: 1px;margin: -1px;overflow: hidden;padding: 0;position: absolute;width: 1px;}#sk-container-id-2 div.sk-estimator {font-family: monospace;background-color: #f0f8ff;border: 1px dotted black;border-radius: 0.25em;box-sizing: border-box;margin-bottom: 0.5em;}#sk-container-id-2 div.sk-estimator:hover {background-color: #d4ebff;}#sk-container-id-2 div.sk-parallel-item::after {content: \"\";width: 100%;border-bottom: 1px solid gray;flex-grow: 1;}#sk-container-id-2 div.sk-label:hover label.sk-toggleable__label {background-color: #d4ebff;}#sk-container-id-2 div.sk-serial::before {content: \"\";position: absolute;border-left: 1px solid gray;box-sizing: border-box;top: 0;bottom: 0;left: 50%;z-index: 0;}#sk-container-id-2 div.sk-serial {display: flex;flex-direction: column;align-items: center;background-color: white;padding-right: 0.2em;padding-left: 0.2em;position: relative;}#sk-container-id-2 div.sk-item {position: relative;z-index: 1;}#sk-container-id-2 div.sk-parallel {display: flex;align-items: stretch;justify-content: center;background-color: white;position: relative;}#sk-container-id-2 div.sk-item::before, #sk-container-id-2 div.sk-parallel-item::before {content: \"\";position: absolute;border-left: 1px solid gray;box-sizing: border-box;top: 0;bottom: 0;left: 50%;z-index: -1;}#sk-container-id-2 div.sk-parallel-item {display: flex;flex-direction: column;z-index: 1;position: relative;background-color: white;}#sk-container-id-2 div.sk-parallel-item:first-child::after {align-self: flex-end;width: 50%;}#sk-container-id-2 div.sk-parallel-item:last-child::after {align-self: flex-start;width: 50%;}#sk-container-id-2 div.sk-parallel-item:only-child::after {width: 0;}#sk-container-id-2 div.sk-dashed-wrapped {border: 1px dashed gray;margin: 0 0.4em 0.5em 0.4em;box-sizing: border-box;padding-bottom: 0.4em;background-color: white;}#sk-container-id-2 div.sk-label label {font-family: monospace;font-weight: bold;display: inline-block;line-height: 1.2em;}#sk-container-id-2 div.sk-label-container {text-align: center;}#sk-container-id-2 div.sk-container {/* jupyter's `normalize.less` sets `[hidden] { display: none; }` but bootstrap.min.css set `[hidden] { display: none !important; }` so we also need the `!important` here to be able to override the default hidden behavior on the sphinx rendered scikit-learn.org. See: https://github.com/scikit-learn/scikit-learn/issues/21755 */display: inline-block !important;position: relative;}#sk-container-id-2 div.sk-text-repr-fallback {display: none;}</style><div id=\"sk-container-id-2\" class=\"sk-top-container\"><div class=\"sk-text-repr-fallback\"><pre>LinearDiscriminantAnalysis()</pre><b>In a Jupyter environment, please rerun this cell to show the HTML representation or trust the notebook. <br />On GitHub, the HTML representation is unable to render, please try loading this page with nbviewer.org.</b></div><div class=\"sk-container\" hidden><div class=\"sk-item\"><div class=\"sk-estimator sk-toggleable\"><input class=\"sk-toggleable__control sk-hidden--visually\" id=\"sk-estimator-id-2\" type=\"checkbox\" checked><label for=\"sk-estimator-id-2\" class=\"sk-toggleable__label sk-toggleable__label-arrow\">LinearDiscriminantAnalysis</label><div class=\"sk-toggleable__content\"><pre>LinearDiscriminantAnalysis()</pre></div></div></div></div></div>"
      ],
      "text/plain": [
       "LinearDiscriminantAnalysis()"
      ]
     },
     "execution_count": 151,
     "metadata": {},
     "output_type": "execute_result"
    }
   ],
   "source": [
    "lr.fit(X_train, y_train)"
   ]
  },
  {
   "cell_type": "code",
   "execution_count": 152,
   "id": "1d9fe8df",
   "metadata": {},
   "outputs": [],
   "source": [
    "y_pred = lr.predict(X_test)"
   ]
  },
  {
   "cell_type": "code",
   "execution_count": 153,
   "id": "b0735980",
   "metadata": {},
   "outputs": [
    {
     "data": {
      "text/plain": [
       "array([0, 0, 0, ..., 0, 0, 0], dtype=int64)"
      ]
     },
     "execution_count": 153,
     "metadata": {},
     "output_type": "execute_result"
    }
   ],
   "source": [
    "y_pred"
   ]
  },
  {
   "cell_type": "code",
   "execution_count": 160,
   "id": "122c8c5e",
   "metadata": {},
   "outputs": [
    {
     "data": {
      "text/plain": [
       "0.7557777777777778"
      ]
     },
     "execution_count": 160,
     "metadata": {},
     "output_type": "execute_result"
    }
   ],
   "source": [
    "accuracy_score(y_test, y_pred)\n",
    "# точность модели"
   ]
  },
  {
   "cell_type": "code",
   "execution_count": 161,
   "id": "9bd84e49",
   "metadata": {},
   "outputs": [
    {
     "data": {
      "text/html": [
       "<div>\n",
       "<style scoped>\n",
       "    .dataframe tbody tr th:only-of-type {\n",
       "        vertical-align: middle;\n",
       "    }\n",
       "\n",
       "    .dataframe tbody tr th {\n",
       "        vertical-align: top;\n",
       "    }\n",
       "\n",
       "    .dataframe thead th {\n",
       "        text-align: right;\n",
       "    }\n",
       "</style>\n",
       "<table border=\"1\" class=\"dataframe\">\n",
       "  <thead>\n",
       "    <tr style=\"text-align: right;\">\n",
       "      <th></th>\n",
       "      <th>satisfaction_level</th>\n",
       "      <th>last_evaluation</th>\n",
       "      <th>number_project</th>\n",
       "      <th>average_montly_hours</th>\n",
       "      <th>time_spend_company</th>\n",
       "      <th>Work_accident</th>\n",
       "      <th>promotion_last_5years</th>\n",
       "      <th>predict</th>\n",
       "      <th>test</th>\n",
       "    </tr>\n",
       "  </thead>\n",
       "  <tbody>\n",
       "    <tr>\n",
       "      <th>6723</th>\n",
       "      <td>0.65</td>\n",
       "      <td>0.96</td>\n",
       "      <td>5</td>\n",
       "      <td>226</td>\n",
       "      <td>2</td>\n",
       "      <td>1</td>\n",
       "      <td>0</td>\n",
       "      <td>0</td>\n",
       "      <td>0</td>\n",
       "    </tr>\n",
       "    <tr>\n",
       "      <th>6473</th>\n",
       "      <td>0.88</td>\n",
       "      <td>0.80</td>\n",
       "      <td>3</td>\n",
       "      <td>166</td>\n",
       "      <td>2</td>\n",
       "      <td>0</td>\n",
       "      <td>0</td>\n",
       "      <td>0</td>\n",
       "      <td>0</td>\n",
       "    </tr>\n",
       "    <tr>\n",
       "      <th>4679</th>\n",
       "      <td>0.69</td>\n",
       "      <td>0.98</td>\n",
       "      <td>3</td>\n",
       "      <td>214</td>\n",
       "      <td>2</td>\n",
       "      <td>0</td>\n",
       "      <td>0</td>\n",
       "      <td>0</td>\n",
       "      <td>0</td>\n",
       "    </tr>\n",
       "    <tr>\n",
       "      <th>862</th>\n",
       "      <td>0.41</td>\n",
       "      <td>0.47</td>\n",
       "      <td>2</td>\n",
       "      <td>154</td>\n",
       "      <td>3</td>\n",
       "      <td>0</td>\n",
       "      <td>0</td>\n",
       "      <td>0</td>\n",
       "      <td>1</td>\n",
       "    </tr>\n",
       "    <tr>\n",
       "      <th>7286</th>\n",
       "      <td>0.87</td>\n",
       "      <td>0.76</td>\n",
       "      <td>5</td>\n",
       "      <td>254</td>\n",
       "      <td>2</td>\n",
       "      <td>1</td>\n",
       "      <td>0</td>\n",
       "      <td>0</td>\n",
       "      <td>0</td>\n",
       "    </tr>\n",
       "    <tr>\n",
       "      <th>...</th>\n",
       "      <td>...</td>\n",
       "      <td>...</td>\n",
       "      <td>...</td>\n",
       "      <td>...</td>\n",
       "      <td>...</td>\n",
       "      <td>...</td>\n",
       "      <td>...</td>\n",
       "      <td>...</td>\n",
       "      <td>...</td>\n",
       "    </tr>\n",
       "    <tr>\n",
       "      <th>13388</th>\n",
       "      <td>0.85</td>\n",
       "      <td>0.81</td>\n",
       "      <td>4</td>\n",
       "      <td>260</td>\n",
       "      <td>3</td>\n",
       "      <td>0</td>\n",
       "      <td>0</td>\n",
       "      <td>0</td>\n",
       "      <td>0</td>\n",
       "    </tr>\n",
       "    <tr>\n",
       "      <th>10463</th>\n",
       "      <td>0.21</td>\n",
       "      <td>0.43</td>\n",
       "      <td>2</td>\n",
       "      <td>249</td>\n",
       "      <td>3</td>\n",
       "      <td>0</td>\n",
       "      <td>0</td>\n",
       "      <td>1</td>\n",
       "      <td>0</td>\n",
       "    </tr>\n",
       "    <tr>\n",
       "      <th>5331</th>\n",
       "      <td>0.78</td>\n",
       "      <td>0.53</td>\n",
       "      <td>3</td>\n",
       "      <td>156</td>\n",
       "      <td>3</td>\n",
       "      <td>0</td>\n",
       "      <td>0</td>\n",
       "      <td>0</td>\n",
       "      <td>0</td>\n",
       "    </tr>\n",
       "    <tr>\n",
       "      <th>7499</th>\n",
       "      <td>0.93</td>\n",
       "      <td>0.58</td>\n",
       "      <td>5</td>\n",
       "      <td>238</td>\n",
       "      <td>2</td>\n",
       "      <td>0</td>\n",
       "      <td>0</td>\n",
       "      <td>0</td>\n",
       "      <td>0</td>\n",
       "    </tr>\n",
       "    <tr>\n",
       "      <th>11796</th>\n",
       "      <td>0.64</td>\n",
       "      <td>0.55</td>\n",
       "      <td>3</td>\n",
       "      <td>246</td>\n",
       "      <td>2</td>\n",
       "      <td>0</td>\n",
       "      <td>1</td>\n",
       "      <td>0</td>\n",
       "      <td>0</td>\n",
       "    </tr>\n",
       "  </tbody>\n",
       "</table>\n",
       "<p>4500 rows × 9 columns</p>\n",
       "</div>"
      ],
      "text/plain": [
       "       satisfaction_level  last_evaluation  number_project  \\\n",
       "6723                 0.65             0.96               5   \n",
       "6473                 0.88             0.80               3   \n",
       "4679                 0.69             0.98               3   \n",
       "862                  0.41             0.47               2   \n",
       "7286                 0.87             0.76               5   \n",
       "...                   ...              ...             ...   \n",
       "13388                0.85             0.81               4   \n",
       "10463                0.21             0.43               2   \n",
       "5331                 0.78             0.53               3   \n",
       "7499                 0.93             0.58               5   \n",
       "11796                0.64             0.55               3   \n",
       "\n",
       "       average_montly_hours  time_spend_company  Work_accident  \\\n",
       "6723                    226                   2              1   \n",
       "6473                    166                   2              0   \n",
       "4679                    214                   2              0   \n",
       "862                     154                   3              0   \n",
       "7286                    254                   2              1   \n",
       "...                     ...                 ...            ...   \n",
       "13388                   260                   3              0   \n",
       "10463                   249                   3              0   \n",
       "5331                    156                   3              0   \n",
       "7499                    238                   2              0   \n",
       "11796                   246                   2              0   \n",
       "\n",
       "       promotion_last_5years  predict  test  \n",
       "6723                       0        0     0  \n",
       "6473                       0        0     0  \n",
       "4679                       0        0     0  \n",
       "862                        0        0     1  \n",
       "7286                       0        0     0  \n",
       "...                      ...      ...   ...  \n",
       "13388                      0        0     0  \n",
       "10463                      0        1     0  \n",
       "5331                       0        0     0  \n",
       "7499                       0        0     0  \n",
       "11796                      1        0     0  \n",
       "\n",
       "[4500 rows x 9 columns]"
      ]
     },
     "execution_count": 161,
     "metadata": {},
     "output_type": "execute_result"
    }
   ],
   "source": [
    "X_test['predict'] = y_pred \n",
    "X_test['test'] = y_test\n",
    "X_test"
   ]
  },
  {
   "cell_type": "code",
   "execution_count": 162,
   "id": "2dfad603",
   "metadata": {},
   "outputs": [
    {
     "data": {
      "text/plain": [
       "array([[3138,  290],\n",
       "       [ 809,  263]], dtype=int64)"
      ]
     },
     "execution_count": 162,
     "metadata": {},
     "output_type": "execute_result"
    }
   ],
   "source": [
    "confusion_matrix(y_test, y_pred)"
   ]
  },
  {
   "cell_type": "markdown",
   "id": "bcc05296",
   "metadata": {},
   "source": [
    "3138 модель рассчитала что останутся, 263 что уволятся. При поэтом ошиблась в 809 случаях, что люди уволятся и в 290, что сотрудники останутся."
   ]
  }
 ],
 "metadata": {
  "kernelspec": {
   "display_name": "Python 3 (ipykernel)",
   "language": "python",
   "name": "python3"
  },
  "language_info": {
   "codemirror_mode": {
    "name": "ipython",
    "version": 3
   },
   "file_extension": ".py",
   "mimetype": "text/x-python",
   "name": "python",
   "nbconvert_exporter": "python",
   "pygments_lexer": "ipython3",
   "version": "3.9.12"
  }
 },
 "nbformat": 4,
 "nbformat_minor": 5
}
